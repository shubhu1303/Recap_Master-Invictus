{
  "nbformat": 4,
  "nbformat_minor": 0,
  "metadata": {
    "colab": {
      "name": "TF IDF Summarization.ipynb",
      "provenance": []
    },
    "kernelspec": {
      "name": "python3",
      "display_name": "Python 3"
    },
    "language_info": {
      "name": "python"
    }
  },
  "cells": [
    {
      "cell_type": "code",
      "source": [
        "import math\n",
        "\n",
        "from nltk import sent_tokenize, word_tokenize, PorterStemmer\n",
        "from nltk.corpus import stopwords "
      ],
      "metadata": {
        "id": "3tweZl9IDAbi"
      },
      "execution_count": null,
      "outputs": []
    },
    {
      "cell_type": "code",
      "source": [
        "text = text_content"
      ],
      "metadata": {
        "id": "JjgCzelyJFfw"
      },
      "execution_count": null,
      "outputs": []
    },
    {
      "cell_type": "code",
      "source": [
        "sentences = sent_tokenize(text) # NLTK function\n",
        "total_documents = len(sentences)"
      ],
      "metadata": {
        "id": "A1-DmhxAJyCi"
      },
      "execution_count": null,
      "outputs": []
    },
    {
      "cell_type": "code",
      "source": [
        "def _generate_summary(sentences, sentenceValue, threshold):\n",
        "    sentence_count = 0\n",
        "    summary = ''\n",
        "\n",
        "    for sentence in sentences:\n",
        "        if sentence[:15] in sentenceValue and sentenceValue[sentence[:15]] >= (threshold):\n",
        "            summary += \" \" + sentence\n",
        "            sentence_count += 1\n",
        "\n",
        "    return summary"
      ],
      "metadata": {
        "id": "_821ys9LJXlD"
      },
      "execution_count": null,
      "outputs": []
    },
    {
      "cell_type": "code",
      "source": [
        "def _find_average_score(sentenceValue) -> int:\n",
        "    \"\"\"\n",
        "    Find the average score from the sentence value dictionary\n",
        "    :rtype: int\n",
        "    \"\"\"\n",
        "    sumValues = 0\n",
        "    for entry in sentenceValue:\n",
        "        sumValues += sentenceValue[entry]\n",
        "\n",
        "    # Average value of a sentence from original summary_text\n",
        "    average = (sumValues / len(sentenceValue))\n",
        "\n",
        "    return average"
      ],
      "metadata": {
        "id": "7MHzpINSJaLi"
      },
      "execution_count": null,
      "outputs": []
    },
    {
      "cell_type": "code",
      "source": [
        "\n",
        "def _score_sentences(tf_idf_matrix) -> dict:\n",
        "    \"\"\"\n",
        "    score a sentence by its word's TF\n",
        "    Basic algorithm: adding the TF frequency of every non-stop word in a sentence divided by total no of words in a sentence.\n",
        "    :rtype: dict\n",
        "    \"\"\"\n",
        "\n",
        "    sentenceValue = {}\n",
        "\n",
        "    for sent, f_table in tf_idf_matrix.items():\n",
        "        total_score_per_sentence = 0\n",
        "\n",
        "        count_words_in_sentence = len(f_table)\n",
        "        for word, score in f_table.items():\n",
        "            total_score_per_sentence += score\n",
        "\n",
        "        sentenceValue[sent] = total_score_per_sentence / count_words_in_sentence\n",
        "\n",
        "    return sentenceValue"
      ],
      "metadata": {
        "id": "nRuyuKekJel5"
      },
      "execution_count": null,
      "outputs": []
    },
    {
      "cell_type": "code",
      "source": [
        "\n",
        "def _create_tf_idf_matrix(tf_matrix, idf_matrix):\n",
        "    tf_idf_matrix = {}\n",
        "\n",
        "    for (sent1, f_table1), (sent2, f_table2) in zip(tf_matrix.items(), idf_matrix.items()):\n",
        "\n",
        "        tf_idf_table = {}\n",
        "\n",
        "        for (word1, value1), (word2, value2) in zip(f_table1.items(),\n",
        "                                                    f_table2.items()):  # here, keys are the same in both the table\n",
        "            tf_idf_table[word1] = float(value1 * value2)\n",
        "\n",
        "        tf_idf_matrix[sent1] = tf_idf_table\n",
        "\n",
        "    return tf_idf_matrix"
      ],
      "metadata": {
        "id": "UGHobPLpJhVK"
      },
      "execution_count": null,
      "outputs": []
    },
    {
      "cell_type": "code",
      "source": [
        "def _create_idf_matrix(freq_matrix, count_doc_per_words, total_documents):\n",
        "    idf_matrix = {}\n",
        "\n",
        "    for sent, f_table in freq_matrix.items():\n",
        "        idf_table = {}\n",
        "\n",
        "        for word in f_table.keys():\n",
        "            idf_table[word] = math.log10(total_documents / float(count_doc_per_words[word]))\n",
        "\n",
        "        idf_matrix[sent] = idf_table\n",
        "\n",
        "    return idf_matrix"
      ],
      "metadata": {
        "id": "S1pfIDAhJl7q"
      },
      "execution_count": null,
      "outputs": []
    },
    {
      "cell_type": "code",
      "source": [
        "def _create_documents_per_words(freq_matrix):\n",
        "    word_per_doc_table = {}\n",
        "\n",
        "    for sent, f_table in freq_matrix.items():\n",
        "        for word, count in f_table.items():\n",
        "            if word in word_per_doc_table:\n",
        "                word_per_doc_table[word] += 1\n",
        "            else:\n",
        "                word_per_doc_table[word] = 1\n",
        "\n",
        "    return word_per_doc_table"
      ],
      "metadata": {
        "id": "7n8KpSmGJpw0"
      },
      "execution_count": null,
      "outputs": []
    },
    {
      "cell_type": "code",
      "source": [
        "def _create_tf_matrix(freq_matrix):\n",
        "    tf_matrix = {}\n",
        "\n",
        "    for sent, f_table in freq_matrix.items():\n",
        "        tf_table = {}\n",
        "\n",
        "        count_words_in_sentence = len(f_table)\n",
        "        for word, count in f_table.items():\n",
        "            tf_table[word] = count / count_words_in_sentence\n",
        "\n",
        "        tf_matrix[sent] = tf_table\n",
        "\n",
        "    return tf_matrix"
      ],
      "metadata": {
        "id": "won4uExMJssV"
      },
      "execution_count": null,
      "outputs": []
    },
    {
      "cell_type": "code",
      "source": [
        "def _create_frequency_matrix(sentences):\n",
        "    frequency_matrix = {}\n",
        "    stopWords = set(stopwords.words(\"english\"))\n",
        "    ps = PorterStemmer()\n",
        "\n",
        "    for sent in sentences:\n",
        "        freq_table = {}\n",
        "        words = word_tokenize(sent)\n",
        "        for word in words:\n",
        "            word = word.lower()\n",
        "            word = ps.stem(word)\n",
        "            if word in stopWords:\n",
        "                continue\n",
        "\n",
        "            if word in freq_table:\n",
        "                freq_table[word] += 1\n",
        "            else:\n",
        "                freq_table[word] = 1\n",
        "\n",
        "        frequency_matrix[sent[:15]] = freq_table\n",
        "\n",
        "    return frequency_matrix"
      ],
      "metadata": {
        "id": "jccH7fRtJwa8"
      },
      "execution_count": null,
      "outputs": []
    },
    {
      "cell_type": "code",
      "source": [
        "print(text)"
      ],
      "metadata": {
        "colab": {
          "base_uri": "https://localhost:8080/"
        },
        "id": "dWBeeVH9Kfn4",
        "outputId": "43943a43-38b4-4621-fc0b-9bd0c76b7779"
      },
      "execution_count": null,
      "outputs": [
        {
          "output_type": "stream",
          "name": "stdout",
          "text": [
            "\n",
            "The Russian tycoon Oleg Tinkov has denounced Moscow’s “massacre” in Ukraine and urged the west to help end “this insane war”.\n",
            "\n",
            "Offering some of the strongest criticism by a prominent Russian of the Kremlin’s military action, Tinkov claimed online that 90% of Russians were “against this war” and called Russia’s forces a “shit army”.\n",
            "\n",
            "Tinkov is one of Russia’s best-known entrepreneurs and founded Tinkoff Bank in 2006. He has been based outside Russia in recent years.\n",
            "\n",
            "“Waking up with a hangover, the generals realised that they have a shit army,” Tinkov, 54, wrote on Instagram.\n",
            "\n",
            "“And how will the army be good, if everything else in the country is shit and mired in nepotism, sycophancy and servility?”\n",
            "\n",
            "The businessman, who has been targeted by western sanctions, added: “I don’t see a SINGLE beneficiary of this insane war! Innocent people and soldiers are dying.”\n",
            "\n",
            "Switching to English, Tinkov, who stepped down as chairman of Tinkoff Bank in 2020, wrote: “Dear ‘collective west’ please give Mr Putin a clear exit to save his face and stop this massacre. Please be more rational and humanitarian.”\n",
            "\n",
            "He posted his statement on the 55th day of Moscow’s military campaign, with Russian forces unleashing a major new offensive in the eastern Donbas region.\n",
            "\n",
            "“90 percent of Russians ARE against this war!” Tinkov said. “Of course there are morons who draw Z but 10 percent of any country are morons,” he said, referring to what has become a Russian symbol of support for the war.\n",
            "\n",
            "He added that Kremlin officials were “in shock” that they and their children would no longer be able to spend their summer holidays on the Mediterranean. “Businessmen are trying to rescue what’s left of their property.”\n",
            "\n",
            "Russian authorities have sought to strangle dissent over Moscow’s invasion of Ukraine, imposing prison terms of up to 15 years for publishing what the Kremlin calls “fake news” about the army.\n",
            "\n",
            "Tinkoff Bank said in a statement that it would not comment on Tinkov’s “private opinion”, saying he no longer took decisions regarding operations across companies under the Tinkoff brand. “He is not a Tinkoff employee.”\n",
            "\n",
            "Russia’s president, Vladimir Putin, sent troops to Ukraine on 24 February. The conflict has killed thousands of people and displaced more than 12 million in the largest refugee crisis in Europe since the second world war.\n",
            "\n"
          ]
        }
      ]
    },
    {
      "cell_type": "code",
      "source": [
        "\n",
        "sentences = sent_tokenize(text)\n",
        "total_documents = len(sentences)\n",
        "\n",
        "\n",
        "freq_matrix = _create_frequency_matrix(sentences)\n",
        "\n",
        "\n",
        "\n",
        "tf_matrix = _create_tf_matrix(freq_matrix)\n",
        "\n",
        "count_doc_per_words = _create_documents_per_words(freq_matrix)\n",
        "\n",
        "\n",
        "idf_matrix = _create_idf_matrix(freq_matrix, count_doc_per_words, total_documents)\n",
        "\n",
        "tf_idf_matrix = _create_tf_idf_matrix(tf_matrix, idf_matrix)\n",
        "\n",
        "sentence_scores = _score_sentences(tf_idf_matrix)\n",
        "\n",
        "threshold = _find_average_score(sentence_scores)\n",
        "\n",
        "\n",
        "summary = _generate_summary(sentences, sentence_scores, 0.7 * threshold)\n",
        "print(summary)\n"
      ],
      "metadata": {
        "colab": {
          "base_uri": "https://localhost:8080/"
        },
        "id": "pAWnW0AbJMXZ",
        "outputId": "b6f8c031-9bea-4617-e59c-0cb714b70dc6"
      },
      "execution_count": null,
      "outputs": [
        {
          "output_type": "stream",
          "name": "stdout",
          "text": [
            " \n",
            "The Russian tycoon Oleg Tinkov has denounced Moscow’s “massacre” in Ukraine and urged the west to help end “this insane war”. Tinkov is one of Russia’s best-known entrepreneurs and founded Tinkoff Bank in 2006. He has been based outside Russia in recent years. “Waking up with a hangover, the generals realised that they have a shit army,” Tinkov, 54, wrote on Instagram. Please be more rational and humanitarian.”\n",
            "\n",
            "He posted his statement on the 55th day of Moscow’s military campaign, with Russian forces unleashing a major new offensive in the eastern Donbas region. “90 percent of Russians ARE against this war!” Tinkov said. “Of course there are morons who draw Z but 10 percent of any country are morons,” he said, referring to what has become a Russian symbol of support for the war. He added that Kremlin officials were “in shock” that they and their children would no longer be able to spend their summer holidays on the Mediterranean. Tinkoff Bank said in a statement that it would not comment on Tinkov’s “private opinion”, saying he no longer took decisions regarding operations across companies under the Tinkoff brand. “He is not a Tinkoff employee.”\n",
            "\n",
            "Russia’s president, Vladimir Putin, sent troops to Ukraine on 24 February. The conflict has killed thousands of people and displaced more than 12 million in the largest refugee crisis in Europe since the second world war.\n"
          ]
        }
      ]
    },
    {
      "cell_type": "code",
      "source": [
        ""
      ],
      "metadata": {
        "id": "PtAv24NzJN5v"
      },
      "execution_count": null,
      "outputs": []
    }
  ]
}
