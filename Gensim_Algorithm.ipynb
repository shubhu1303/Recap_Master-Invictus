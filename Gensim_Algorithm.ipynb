{
  "nbformat": 4,
  "nbformat_minor": 0,
  "metadata": {
    "colab": {
      "name": "2) Gensim.ipynb",
      "provenance": []
    },
    "kernelspec": {
      "name": "python3",
      "display_name": "Python 3"
    },
    "language_info": {
      "name": "python"
    }
  },
  "cells": [
    {
      "cell_type": "markdown",
      "source": [
        "# Gensim Summarization"
      ],
      "metadata": {
        "id": "gCRs5VR2uMjT"
      }
    },
    {
      "cell_type": "code",
      "source": [
        "# Import\n",
        "from gensim.summarization.summarizer import summarize"
      ],
      "metadata": {
        "id": "F5chLz2Orhdv"
      },
      "execution_count": 2,
      "outputs": []
    },
    {
      "cell_type": "code",
      "execution_count": 4,
      "metadata": {
        "id": "aLZ98HXipzOw"
      },
      "outputs": [],
      "source": [
        "# Make Function\n",
        "def gensim_summarize(text_content, percent):\n",
        "    # TextRank Summarization using Gensim Library.\n",
        "    # Split is false, gensim return strings joined by \"\\n\". if true, gensim will return list\n",
        "    summary = summarize(text_content, ratio=(int(percent) / 100), split=False).replace(\"\\n\", \" \")\n",
        "\n",
        "    # Returning NLTK Summarization Output\n",
        "    return summary\n"
      ]
    },
    {
      "cell_type": "code",
      "source": [
        "# Sample Paragraph\n",
        "a = '''Ukraine and Russia made tentative progress in talks Monday but failed to reach a deal on creating \"humanitarian corridors\" from pummelled cities, as the bloodshed from Moscow's invasion mounted.\n",
        "Kyiv said there had been \"positive results\" from the third round of negotiations, focused on giving civilians evacuation routes from besieged towns, but Russia said its expectations from the talks were \"not fulfilled\".\n",
        "\n",
        "Ukraine today accepted Russia's proposal of setting up humanitarian corridors.\n",
        "\n",
        "Russian President Vladimir Putin said he is not sending conscripts or reservists to fight and that \"professional\" soldiers fulfilling \"fixed objectives\" are leading the war in Ukraine.\n",
        "\n",
        "Ukraine's President Volodymyr Zelensky renewed calls for the West to boycott Russian exports, particularly oil, and to impose a no-fly zone to stop the carnage.\n",
        "\n",
        "More than 1.7 million people have fled Ukraine since Russia launched its full-scale invasion on February 24.'''"
      ],
      "metadata": {
        "id": "lGC_VbWgrpSF"
      },
      "execution_count": 8,
      "outputs": []
    },
    {
      "cell_type": "code",
      "source": [
        "# Printing Output\n",
        "gensim_summarize(a, 50)"
      ],
      "metadata": {
        "colab": {
          "base_uri": "https://localhost:8080/",
          "height": 74
        },
        "id": "GH5lgAzqtBRL",
        "outputId": "08bfa54a-c10b-45db-f76e-9ebdd58f611f"
      },
      "execution_count": 9,
      "outputs": [
        {
          "output_type": "execute_result",
          "data": {
            "application/vnd.google.colaboratory.intrinsic+json": {
              "type": "string"
            },
            "text/plain": [
              "'Ukraine and Russia made tentative progress in talks Monday but failed to reach a deal on creating \"humanitarian corridors\" from pummelled cities, as the bloodshed from Moscow\\'s invasion mounted. Ukraine today accepted Russia\\'s proposal of setting up humanitarian corridors. More than 1.7 million people have fled Ukraine since Russia launched its full-scale invasion on February 24.'"
            ]
          },
          "metadata": {},
          "execution_count": 9
        }
      ]
    },
    {
      "cell_type": "code",
      "source": [
        ""
      ],
      "metadata": {
        "id": "ZTNdUgistJA4"
      },
      "execution_count": null,
      "outputs": []
    }
  ]
}


